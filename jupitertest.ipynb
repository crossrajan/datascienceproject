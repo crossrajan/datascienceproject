{
 "cells": [
  {
   "cell_type": "code",
   "execution_count": 1,
   "metadata": {},
   "outputs": [
    {
     "name": "stdout",
     "output_type": "stream",
     "text": [
      "The sum of all the elements in the list is:  55\n",
      "The list after removing the element is:  [1, 2, 3, 4, 6, 7, 8, 9, 10]\n",
      "The list after inserting the element is:  [1, 2, 3, 4, 6, 5, 7, 8, 9, 10]\n",
      "The list after sorting is:  [1, 2, 3, 4, 5, 6, 7, 8, 9, 10]\n",
      "The list after reversing is:  [10, 9, 8, 7, 6, 5, 4, 3, 2, 1]\n"
     ]
    }
   ],
   "source": [
    "# wap to calculate the sum of all the elements in a list\n",
    "list = [1,2,3,4,5,6,7,8,9,10]\n",
    "sum = 0\n",
    "for i in list:\n",
    "    sum += i\n",
    "print(\"The sum of all the elements in the list is: \", sum)\n",
    "#remove the element from the list\n",
    "list.remove(5)\n",
    "print(\"The list after removing the element is: \", list)\n",
    "#insert the element in the list \n",
    "list.insert(5,5)\n",
    "print(\"The list after inserting the element is: \", list)\n",
    "#sort the list\n",
    "list.sort()\n",
    "print(\"The list after sorting is: \", list)\n",
    "#reverse the list\n",
    "list.reverse()\n",
    "print(\"The list after reversing is: \", list)"
   ]
  },
  {
   "cell_type": "markdown",
   "metadata": {},
   "source": [
    "1. Provide Context\n",
    "2. Be Predictable\n"
   ]
  },
  {
   "cell_type": "code",
   "execution_count": 2,
   "metadata": {},
   "outputs": [
    {
     "name": "stdout",
     "output_type": "stream",
     "text": [
      "['__add__', '__class__', '__class_getitem__', '__contains__', '__delattr__', '__delitem__', '__dir__', '__doc__', '__eq__', '__format__', '__ge__', '__getattribute__', '__getitem__', '__getstate__', '__gt__', '__hash__', '__iadd__', '__imul__', '__init__', '__init_subclass__', '__iter__', '__le__', '__len__', '__lt__', '__mul__', '__ne__', '__new__', '__reduce__', '__reduce_ex__', '__repr__', '__reversed__', '__rmul__', '__setattr__', '__setitem__', '__sizeof__', '__str__', '__subclasshook__', 'append', 'clear', 'copy', 'count', 'extend', 'index', 'insert', 'pop', 'remove', 'reverse', 'sort']\n"
     ]
    }
   ],
   "source": [
    "#list all \"re\" funtions\n",
    "print(dir(list))\n"
   ]
  },
  {
   "cell_type": "code",
   "execution_count": null,
   "metadata": {},
   "outputs": [
    {
     "name": "stdout",
     "output_type": "stream",
     "text": [
      "2\n"
     ]
    }
   ],
   "source": [
    "#Take a sorted list and a target value as input.\n",
    "#Use the binary search method to find the target value by repeatedly updating the low, high, and mid indices.\n",
    "#Narrow down the search range by discarding one half of the list at each step.\n",
    "#Return the index of the target value if found, or -1 if not found.\n",
    "def binary_search(list, target):\n",
    "    low = 0\n",
    "    high = len(list) - 1\n",
    "    while low <= high:\n",
    "        mid = (low + high) // 2\n",
    "        if list[mid] == target:\n",
    "            return mid\n",
    "        elif list[mid] < target:\n",
    "            low = mid + 1\n",
    "        else:\n",
    "            high = mid - 1\n",
    "    return -1\n",
    "list = [1,2,3,4,5,6,7,8,9,10]\n",
    "#take target value as input\n",
    "target=int(input(\"Enter the target value: \"))\n",
    "print(binary_search(list, target))"
   ]
  },
  {
   "cell_type": "code",
   "execution_count": 2,
   "metadata": {},
   "outputs": [
    {
     "name": "stdout",
     "output_type": "stream",
     "text": [
      "The gcd of the two numbers is:  2\n"
     ]
    }
   ],
   "source": [
    "#wap for euclidean algorithm\n",
    "def gcd(a, b):\n",
    "    while b != 0:\n",
    "        a, b = b, a % b\n",
    "    return a\n",
    "a = int(input(\"Enter the first number: \"))\n",
    "b = int(input(\"Enter the second number: \"))\n",
    "print(\"The gcd of the two numbers is: \", gcd(a, b))"
   ]
  }
 ],
 "metadata": {
  "kernelspec": {
   "display_name": "Python 3",
   "language": "python",
   "name": "python3"
  },
  "language_info": {
   "codemirror_mode": {
    "name": "ipython",
    "version": 3
   },
   "file_extension": ".py",
   "mimetype": "text/x-python",
   "name": "python",
   "nbconvert_exporter": "python",
   "pygments_lexer": "ipython3",
   "version": "3.13.1"
  }
 },
 "nbformat": 4,
 "nbformat_minor": 2
}
